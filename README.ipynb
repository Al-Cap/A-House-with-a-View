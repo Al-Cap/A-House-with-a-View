{
 "cells": [
  {
   "cell_type": "markdown",
   "metadata": {},
   "source": [
    "This README.md lists project members, goals, responsibilities, and a summary of the files in the repository.\n",
    "\n",
    "### Project File Summary\n",
    "\n",
    "   - <b>[README.md](README.md)</b> - a summary of all contents in this repository.\n",
    "   - <b>[/Data](/Data)</b> - the dataset provided as .csv files.\n",
    "   - <b>[/Images](/Imagesl)</b> - All processed plots and images from the project.\n",
    "   - <b>[/Logistic_Regression_Final](/Logistic_Regression_Final)</b> - Logistic regression code.\n",
    "   - <b>[/Project_Prompt](/Project_Prompt)</b> - the prompt for this project.\n",
    "   - <b>[/Python_Files](/Python_Files)</b> - .py files loaded / imported in the Jupyter Notebooks.\n",
    "   \n",
    "### Project Members\n",
    "\n",
    "   - <b>[Joseph McHugh](https://github.com/Joe-Bit-lab)</b>\n",
    "   - <b>[Alphonso Woodbury](https://github.com/awoodbury85)</b>\n",
    "\n",
    "### Project Scenario\n",
    "\n",
    "\n",
    "\n",
    "### Project Goals\n",
    "\n",
    "   -  We want to predict the price of a house\n",
    "   -  We want to build a prediction model\n",
    "\n",
    "### Methodology \n",
    "\n",
    "   -  Generate business application.\n",
    "   -  Find and select a source of data to draw from and analyze (Spoonacular).\n",
    "   -  Identify predictor and target variables to focus on.\n",
    "   -  Generate criteria and call data sorted by popularity from the API.\n",
    "   -  Merge all API calls into one raw dataframe, and export to CSV.\n",
    "   -  Clean data as needed.\n",
    "   -  Perform Exploratory Data Analysis (EDA) to investigate the data.\n",
    "   -  Determine criteria for classification.\n",
    "   -  Generate logistic regression model based on criteria to fit the training data.\n",
    "   -  Fit additional models using Ridge and Lasso regularization to compare with \"vanilla\" logistic regression model.\n",
    "   -  Perform hyperparameter tuning using RandomSearchCV / GridSearchCV.\n",
    "   -  Test the optimized training model on the test data and evaluate score.\n",
    "   -  Plot Receiver Operating Characteristic (ROC) curve and calculate AUC to evaluate model performance on test data.\n",
    "   -  Create a presentation to translate findings into actionable insights for the business application. \n",
    "\n",
    "### Project Responsibilities\n",
    "\n",
    "   -  All project responsibilities were shared equally between <b>[Joseph McHugh](https://github.com/Joe-Bit-lab)</b> and <b>[Alphonso Woodbury](https://github.com/awoodbury85)</b>"
   ]
  },
  {
   "cell_type": "code",
   "execution_count": null,
   "metadata": {},
   "outputs": [],
   "source": []
  }
 ],
 "metadata": {
  "kernelspec": {
   "display_name": "Python 3",
   "language": "python",
   "name": "python3"
  },
  "language_info": {
   "codemirror_mode": {
    "name": "ipython",
    "version": 3
   },
   "file_extension": ".py",
   "mimetype": "text/x-python",
   "name": "python",
   "nbconvert_exporter": "python",
   "pygments_lexer": "ipython3",
   "version": "3.7.4"
  }
 },
 "nbformat": 4,
 "nbformat_minor": 4
}
