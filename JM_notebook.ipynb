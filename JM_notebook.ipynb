{
 "cells": [
  {
   "cell_type": "code",
   "execution_count": 9,
   "metadata": {},
   "outputs": [],
   "source": [
    "import pandas as pd\n",
    "import numpy as np\n",
    "import datetime as dt\n",
    "import matplotlib.pyplot as plt\n",
    "%matplotlib inline\n",
    "import seaborn as sns"
   ]
  },
  {
   "cell_type": "code",
   "execution_count": 2,
   "metadata": {},
   "outputs": [],
   "source": [
    "#importing data\n",
    "df = pd.read_csv('data/kc_house_data.csv')"
   ]
  },
  {
   "cell_type": "code",
   "execution_count": 3,
   "metadata": {},
   "outputs": [],
   "source": [
    "#data cleaning:\n",
    "#changing question marks to 0.0\n",
    "df = df.replace('?', 0.0)\n",
    "\n",
    "#changing all column object types to floats (except date column)\n",
    "df.loc[:, df.columns != 'date'] = df.loc[:,df.columns != 'date'].astype('float')\n",
    "\n",
    "#changing all 0.0 in sqft_basement column, yr_renovated, and waterfront columns to NaN values\n",
    "df['sqft_basement'] = df['sqft_basement'].replace(0.0 , np.nan)\n",
    "df['waterfront'] = df.waterfront.replace(0.0, np.nan)\n",
    "df['yr_renovated'] =df['yr_renovated'].replace(0.0, np.nan)\n",
    "#changing date column to datetime values\n",
    "df['date'] = pd.to_datetime(df['date'])"
   ]
  },
  {
   "cell_type": "code",
   "execution_count": 4,
   "metadata": {},
   "outputs": [],
   "source": [
    "#Feature Engineering:\n",
    "#creating has_basement, has_waterfront, has_renovation columns with True/False values\n",
    "df['has_waterfront'] = df['waterfront'].notnull()\n",
    "df['has_basement'] = df['sqft_basement'].notnull()\n",
    "df['has_renovation'] = df['yr_renovated'].notnull()\n",
    "#creating eff_built column (which updates built year depending on whether it was renovated or not)\n",
    "df.loc[df['yr_renovated'].notnull(), 'eff_built'] = df['yr_renovated']\n",
    "df.loc[df['yr_renovated'].isnull(), 'eff_built'] = df['yr_built']"
   ]
  },
  {
   "cell_type": "code",
   "execution_count": 5,
   "metadata": {},
   "outputs": [],
   "source": [
    "#Creating new dataframe with desired columns:\n",
    "df = df[['id','date','price','bedrooms','bathrooms','sqft_living','sqft_lot','floors','condition','grade','yr_built','zipcode',\\\n",
    "         'sqft_living15','sqft_lot15','has_basement','has_waterfront','has_renovation','eff_built']]"
   ]
  },
  {
   "cell_type": "code",
   "execution_count": null,
   "metadata": {},
   "outputs": [],
   "source": [
    "#Correlation Heatmap\n",
    "#sns.set(rc={'figure.figsize':(20,10)})\n",
    "# ax = sns.heatmap(df_corr, center=0, vmin=-1, vmax=1, linewidth = 5, annot=True)\n",
    "# bottom, top = ax.get_ylim()\n",
    "# ax.set_ylim(bottom + 0.5, top - 0.5)"
   ]
  }
 ],
 "metadata": {
  "kernelspec": {
   "display_name": "Python 3",
   "language": "python",
   "name": "python3"
  },
  "language_info": {
   "codemirror_mode": {
    "name": "ipython",
    "version": 3
   },
   "file_extension": ".py",
   "mimetype": "text/x-python",
   "name": "python",
   "nbconvert_exporter": "python",
   "pygments_lexer": "ipython3",
   "version": "3.7.4"
  }
 },
 "nbformat": 4,
 "nbformat_minor": 4
}
