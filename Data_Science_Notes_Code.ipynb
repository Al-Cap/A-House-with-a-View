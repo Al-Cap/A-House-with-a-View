{
  "nbformat": 4,
  "nbformat_minor": 0,
  "metadata": {
    "colab": {
      "name": "Data Science Notes - Code.ipynb",
      "provenance": [],
      "authorship_tag": "ABX9TyMYA67wnLAGhX8FUuDQJo80",
      "include_colab_link": true
    },
    "kernelspec": {
      "name": "python3",
      "display_name": "Python 3"
    }
  },
  "cells": [
    {
      "cell_type": "markdown",
      "metadata": {
        "id": "view-in-github",
        "colab_type": "text"
      },
      "source": [
        "<a href=\"https://colab.research.google.com/github/a-woodbury/A-House-with-a-View/blob/master/Data_Science_Notes_Code.ipynb\" target=\"_parent\"><img src=\"https://colab.research.google.com/assets/colab-badge.svg\" alt=\"Open In Colab\"/></a>"
      ]
    },
    {
      "cell_type": "markdown",
      "metadata": {
        "id": "GN0bS6Fw6NHB",
        "colab_type": "text"
      },
      "source": [
        "## Python"
      ]
    },
    {
      "cell_type": "markdown",
      "metadata": {
        "id": "xNWi25G-_o1e",
        "colab_type": "text"
      },
      "source": [
        ""
      ]
    },
    {
      "cell_type": "code",
      "metadata": {
        "id": "sXfPxTvj59iF",
        "colab_type": "code",
        "colab": {}
      },
      "source": [
        ""
      ],
      "execution_count": null,
      "outputs": []
    }
  ]
}